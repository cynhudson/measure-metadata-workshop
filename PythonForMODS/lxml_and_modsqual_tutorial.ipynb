{
 "cells": [
  {
   "cell_type": "markdown",
   "metadata": {},
   "source": [
    "#Using lxml and modsqual to parse and assess MODS XML\n",
    "In this tutorial, we will learn the basics of parsing XML with the third-party [lxml](http://lxml.de/) library and assessing MODS XML metadata with [modsqual](https://github.com/saverkamp/modsqual), a module (in progress!) that simplifies lxml for working with MODS. "
   ]
  },
  {
   "cell_type": "markdown",
   "metadata": {},
   "source": [
    "###Installation\n",
    "####lxml\n",
    "If you installed the [Anaconda Python distribution](https://www.continuum.io/why-anaconda), good news! You already have lxml installed. If you aren't using Anaconda (and you already have Python and pip installed), you can install wil pip:\n",
    "\n",
    "```\n",
    "pip install lxml\n",
    "```\n",
    "\n",
    "More information on pip installation and other methods are available on the lxml [installation page](http://lxml.de/installation.html)."
   ]
  },
  {
   "cell_type": "markdown",
   "metadata": {},
   "source": [
    "####modsqual\n",
    "Modsqual requires lxml, so make sure you have that installed before attempting to work with the module. Modsqual also uses [xmltodict](https://github.com/martinblech/xmltodict), but this should be installed automatically with the modsqual install, if you don't have it already. xmltodict is a module that converts XML to JSON, if that's your thing. \n",
    "\n",
    "Install modsqual with pip:\n",
    "```\n",
    "pip install modsqual\n",
    "```"
   ]
  },
  {
   "cell_type": "markdown",
   "metadata": {},
   "source": [
    "###lxml\n",
    "Let's read in some MODS XML data so we can see if our lxml installation worked. You should have a file named 'sample_mods_data.txt' in this folder. If you don't, you can download it [here](http://github.com/saverkamp/measure-metadata-workshop/MODSXMLandPython/sample_mods_data.txt)."
   ]
  },
  {
   "cell_type": "code",
   "execution_count": 125,
   "metadata": {
    "collapsed": false
   },
   "outputs": [],
   "source": [
    "f = open('sample_mods_data.txt')"
   ]
  },
  {
   "cell_type": "markdown",
   "metadata": {},
   "source": [
    "This text file contains ~9000 MODS XML records from NYPL's Digital Collections with one record per line. You could use a properly-formed MODS record and nest them all within a <modsCollection> element, but it can be difficult to load such a giant XML document into memory and work with it. To save processing time, we're going to cheat and iterate line by line through this text file. \n",
    "\n",
    "Let's use the `readline()` method to read the first record/row into a variable called line. We'll print it, too, so we can see what we're working with:"
   ]
  },
  {
   "cell_type": "code",
   "execution_count": 126,
   "metadata": {
    "collapsed": false
   },
   "outputs": [
    {
     "name": "stdout",
     "output_type": "stream",
     "text": [
      "<?xml version=\"1.0\" encoding=\"UTF-8\"?><mods xmlns:xsi=\"http://www.w3.org/2001/XMLSchema-instance\" xmlns=\"http://www.loc.gov/mods/v3\" version=\"3.4\" xsi:schemaLocation=\"http://www.loc.gov/mods/v3 http://www.loc.gov/standards/mods/v3/mods-3-4.xsd\">  <titleInfo usage=\"primary\" supplied=\"no\">    <title>America Septentrionalis.</title>  </titleInfo>  <identifier type=\"local_hades_collection\" displayLabel=\"Hades Collection Guide ID (legacy)\">149</identifier>  <identifier type=\"local_hades\" displayLabel=\"Hades struc ID (legacy)\">252939</identifier>  <identifier type=\"local_catnyp\" displayLabel=\"CATNYP ID (legacy)\">b6987048</identifier>  <identifier type=\"local_other\" displayLabel=\"RLIN/OCLC\">48757232</identifier>  <identifier type=\"local_bnumber\" displayLabel=\"NYPL catalog ID (B-number)\">b15315142</identifier>  <location>    <physicalLocation authority=\"marcorg\" type=\"repository\">nn</physicalLocation>    <physicalLocation type=\"division\">Lionel Pincus and Princess Firyal Map Division</physicalLocation>    <physicalLocation type=\"division_short_name\">Map Division</physicalLocation>    <physicalLocation type=\"code\">MAP</physicalLocation>  </location>  <location>    <physicalLocation type=\"division\">Lionel Pincus and Princess Firyal Map Division</physicalLocation>    <shelfLocator>Map Div. 01-5371 [Filed with North America, [1660] as originally cataloged in NYPL Dictionary Catalog of the Map Division]</shelfLocator>    <physicalLocation type=\"division_short_name\">Map Division</physicalLocation>    <physicalLocation type=\"code\">MAP</physicalLocation>  </location>  <name type=\"personal\" authority=\"naf\" valueURI=\"\" usage=\"primary\">    <namePart>Jansson, Jan (1588-1664)</namePart>    <role>      <roleTerm valueURI=\"http://id.loc.gov/vocabulary/relators/egr\" authority=\"marcrelator\" type=\"code\">egr</roleTerm>      <roleTerm valueURI=\"http://id.loc.gov/vocabulary/relators/egr\" authority=\"marcrelator\" type=\"text\">Engraver</roleTerm>    </role>  </name>  <typeOfResource>still image</typeOfResource>  <originInfo>    <dateIssued encoding=\"w3cdtf\" qualifier=\"questionable\" keyDate=\"yes\">1639</dateIssued>    <place>      <placeTerm>Amstelodami :</placeTerm>    </place>    <publisher>Excudit Ioannes Ianssonius,</publisher>  </originInfo>  <physicalDescription>    <extent>1 map ; 44 x 53 cm.</extent>  </physicalDescription>  <note type=\"content\">California shown as an island.</note>  <note type=\"content\">Includes decorative cartouche showing native North Americans and ill. of animals in the body of the map.</note>  <note type=\"content\">National Endowment for the Humanities Grant for Access to Early Maps of the Middle Atlantic Seaboard.</note>  <note type=\"content\">Relief shown pictorially.</note>  <note type=\"content\">Title of the text on verso: Beschryvinge van het Noorder Deel van America ; signature: Bb.</note>  <note type=\"citation/reference\">Koemen, C. Atlantes Neerlandici, II, p. 431</note>  <subject>    <geographic authority=\"naf\">North America</geographic>  </subject>  <subject>    <geographic authority=\"lcsh\">North America -- Maps -- Early works to 1800</geographic>  </subject>  <identifier type=\"uuid\">5db7ad80-c52a-012f-0a4c-3c075448cc4b</identifier>  <relatedItem type=\"host\">    <titleInfo>      <title>Whole</title>    </titleInfo>    <identifier type=\"uuid\">5d52f8d0-c52a-012f-8383-3c075448cc4b</identifier>    <identifier type=\"local_hades\">854715 </identifier>    <relatedItem type=\"host\">      <titleInfo>        <title>Maps of North America.</title>      </titleInfo>      <identifier type=\"uuid\">5cd94760-c52a-012f-bcd4-3c075448cc4b</identifier>      <identifier type=\"local_hades\">854714 local_hades_collection</identifier>    </relatedItem>  </relatedItem></mods>\n",
      "\n"
     ]
    }
   ],
   "source": [
    "line = f.readline()\n",
    "print line"
   ]
  },
  {
   "cell_type": "markdown",
   "metadata": {},
   "source": [
    "lxml has two modules for parsing XML, [etree](http://lxml.de/tutorial.html) and [objectify](http://lxml.de/objectify.html). etree provides access to XML structure and content through Python's native ElementTree API, while objectify provides more object-oriented access to your XML document. We're going to learn about the objectify module, but we will need to import both modules to use it:"
   ]
  },
  {
   "cell_type": "code",
   "execution_count": 127,
   "metadata": {
    "collapsed": true
   },
   "outputs": [],
   "source": [
    "from lxml import etree\n",
    "from lxml import objectify"
   ]
  },
  {
   "cell_type": "markdown",
   "metadata": {},
   "source": [
    "Let's use the `fromstring()` method to import our first line an lxml.objectify object called mods:"
   ]
  },
  {
   "cell_type": "code",
   "execution_count": 128,
   "metadata": {
    "collapsed": false
   },
   "outputs": [
    {
     "data": {
      "text/plain": [
       "<Element {http://www.loc.gov/mods/v3}mods at 0x423ed48>"
      ]
     },
     "execution_count": 128,
     "metadata": {},
     "output_type": "execute_result"
    }
   ],
   "source": [
    "mods = objectify.fromstring(line)\n",
    "mods"
   ]
  },
  {
   "cell_type": "markdown",
   "metadata": {},
   "source": [
    "We can see that mods is an Element object that holds our root element `<mods>`. What can we do with our element object? Let's see:"
   ]
  },
  {
   "cell_type": "code",
   "execution_count": 129,
   "metadata": {
    "collapsed": false,
    "scrolled": true
   },
   "outputs": [
    {
     "data": {
      "text/plain": [
       "['__class__',\n",
       " '__contains__',\n",
       " '__copy__',\n",
       " '__deepcopy__',\n",
       " '__delattr__',\n",
       " '__delitem__',\n",
       " '__dict__',\n",
       " '__doc__',\n",
       " '__format__',\n",
       " '__getattr__',\n",
       " '__getattribute__',\n",
       " '__getitem__',\n",
       " '__hash__',\n",
       " '__init__',\n",
       " '__iter__',\n",
       " '__len__',\n",
       " '__new__',\n",
       " '__nonzero__',\n",
       " '__reduce__',\n",
       " '__reduce_ex__',\n",
       " '__repr__',\n",
       " '__reversed__',\n",
       " '__setattr__',\n",
       " '__setitem__',\n",
       " '__sizeof__',\n",
       " '__str__',\n",
       " '__subclasshook__',\n",
       " '_init',\n",
       " 'addattr',\n",
       " 'addnext',\n",
       " 'addprevious',\n",
       " 'append',\n",
       " 'attrib',\n",
       " 'base',\n",
       " 'clear',\n",
       " 'countchildren',\n",
       " 'descendantpaths',\n",
       " 'extend',\n",
       " 'find',\n",
       " 'findall',\n",
       " 'findtext',\n",
       " 'get',\n",
       " 'getchildren',\n",
       " 'getiterator',\n",
       " 'getnext',\n",
       " 'getparent',\n",
       " 'getprevious',\n",
       " 'getroottree',\n",
       " 'identifier',\n",
       " 'index',\n",
       " 'insert',\n",
       " 'items',\n",
       " 'iter',\n",
       " 'iterancestors',\n",
       " 'iterchildren',\n",
       " 'iterdescendants',\n",
       " 'iterfind',\n",
       " 'itersiblings',\n",
       " 'itertext',\n",
       " 'keys',\n",
       " 'location',\n",
       " 'makeelement',\n",
       " 'name',\n",
       " 'note',\n",
       " 'nsmap',\n",
       " 'originInfo',\n",
       " 'physicalDescription',\n",
       " 'prefix',\n",
       " 'relatedItem',\n",
       " 'remove',\n",
       " 'replace',\n",
       " 'set',\n",
       " 'sourceline',\n",
       " 'subject',\n",
       " 'tag',\n",
       " 'tail',\n",
       " 'text',\n",
       " 'titleInfo',\n",
       " 'typeOfResource',\n",
       " 'values',\n",
       " 'xpath']"
      ]
     },
     "execution_count": 129,
     "metadata": {},
     "output_type": "execute_result"
    }
   ],
   "source": [
    "dir(mods)"
   ]
  },
  {
   "cell_type": "markdown",
   "metadata": {},
   "source": [
    "Wow! That's a lot of attributes. You could read the documentation to learn about what all of these do, but when I'm learning a new module, I like to just try things out. "
   ]
  },
  {
   "cell_type": "code",
   "execution_count": 130,
   "metadata": {
    "collapsed": false
   },
   "outputs": [
    {
     "data": {
      "text/plain": [
       "'{http://www.loc.gov/mods/v3}mods'"
      ]
     },
     "execution_count": 130,
     "metadata": {},
     "output_type": "execute_result"
    }
   ],
   "source": [
    "mods.tag"
   ]
  },
  {
   "cell_type": "markdown",
   "metadata": {},
   "source": [
    "If an attribute is a function, it will tell you, and then you can try it with a ():"
   ]
  },
  {
   "cell_type": "code",
   "execution_count": 131,
   "metadata": {
    "collapsed": false
   },
   "outputs": [
    {
     "data": {
      "text/plain": [
       "<function getchildren>"
      ]
     },
     "execution_count": 131,
     "metadata": {},
     "output_type": "execute_result"
    }
   ],
   "source": [
    "mods.getchildren"
   ]
  },
  {
   "cell_type": "code",
   "execution_count": 132,
   "metadata": {
    "collapsed": false
   },
   "outputs": [
    {
     "data": {
      "text/plain": [
       "[<Element {http://www.loc.gov/mods/v3}titleInfo at 0x423c688>,\n",
       " 149,\n",
       " 252939,\n",
       " 'b6987048',\n",
       " 48757232,\n",
       " 'b15315142',\n",
       " <Element {http://www.loc.gov/mods/v3}location at 0x426fd48>,\n",
       " <Element {http://www.loc.gov/mods/v3}location at 0x426f148>,\n",
       " <Element {http://www.loc.gov/mods/v3}name at 0x426fb48>,\n",
       " 'still image',\n",
       " <Element {http://www.loc.gov/mods/v3}originInfo at 0x426f308>,\n",
       " <Element {http://www.loc.gov/mods/v3}physicalDescription at 0x426fdc8>,\n",
       " 'California shown as an island.',\n",
       " 'Includes decorative cartouche showing native North Americans and ill. of animals in the body of the map.',\n",
       " 'National Endowment for the Humanities Grant for Access to Early Maps of the Middle Atlantic Seaboard.',\n",
       " 'Relief shown pictorially.',\n",
       " 'Title of the text on verso: Beschryvinge van het Noorder Deel van America ; signature: Bb.',\n",
       " 'Koemen, C. Atlantes Neerlandici, II, p. 431',\n",
       " <Element {http://www.loc.gov/mods/v3}subject at 0x426ff48>,\n",
       " <Element {http://www.loc.gov/mods/v3}subject at 0x4289048>,\n",
       " '5db7ad80-c52a-012f-0a4c-3c075448cc4b',\n",
       " <Element {http://www.loc.gov/mods/v3}relatedItem at 0x4289088>]"
      ]
     },
     "execution_count": 132,
     "metadata": {},
     "output_type": "execute_result"
    }
   ],
   "source": [
    "mods.getchildren()"
   ]
  },
  {
   "cell_type": "markdown",
   "metadata": {},
   "source": [
    "To find out more about an attribute, use the help() function:"
   ]
  },
  {
   "cell_type": "code",
   "execution_count": 133,
   "metadata": {
    "collapsed": false
   },
   "outputs": [
    {
     "name": "stdout",
     "output_type": "stream",
     "text": [
      "Help on built-in function getchildren:\n",
      "\n",
      "getchildren(...)\n",
      "    getchildren(self)\n",
      "    \n",
      "    Returns a sequence of all direct children.  The elements are\n",
      "    returned in document order.\n",
      "\n"
     ]
    }
   ],
   "source": [
    "help(mods.getchildren)"
   ]
  },
  {
   "cell_type": "markdown",
   "metadata": {},
   "source": [
    "We can see that `getchildren()` returned a list of it's direct children. If direct children contain text values, it returns the text. If the child contains other elements, it returns the child as another objectify Element. (Looks like this method might be more useful for elements with less stuff!) \n",
    "\n",
    "Use this next cell to explore some more attributes of the `mods` Element object"
   ]
  },
  {
   "cell_type": "code",
   "execution_count": null,
   "metadata": {
    "collapsed": true
   },
   "outputs": [],
   "source": []
  },
  {
   "cell_type": "markdown",
   "metadata": {},
   "source": [
    "You might have noticed the names of [top-level MODS elements](https://www.loc.gov/standards/mods/userguide/generalapp.html) amongst our `mods` object's attributes. This means you can access child elements (or \"objects\") through \"dot\" notation."
   ]
  },
  {
   "cell_type": "code",
   "execution_count": 134,
   "metadata": {
    "collapsed": false
   },
   "outputs": [
    {
     "data": {
      "text/plain": [
       "'America Septentrionalis.'"
      ]
     },
     "execution_count": 134,
     "metadata": {},
     "output_type": "execute_result"
    }
   ],
   "source": [
    "mods.titleInfo.title"
   ]
  },
  {
   "cell_type": "code",
   "execution_count": 135,
   "metadata": {
    "collapsed": false
   },
   "outputs": [
    {
     "data": {
      "text/plain": [
       "1639"
      ]
     },
     "execution_count": 135,
     "metadata": {},
     "output_type": "execute_result"
    }
   ],
   "source": [
    "mods.originInfo.dateIssued"
   ]
  },
  {
   "cell_type": "code",
   "execution_count": 136,
   "metadata": {
    "collapsed": false
   },
   "outputs": [
    {
     "data": {
      "text/plain": [
       "149"
      ]
     },
     "execution_count": 136,
     "metadata": {},
     "output_type": "execute_result"
    }
   ],
   "source": [
    "mods.identifier"
   ]
  },
  {
   "cell_type": "markdown",
   "metadata": {},
   "source": [
    "Hmm, that's strange. We know that have more than one identifier in our record, but we're only seeing one. When we try to call elements through dot notation, we're only given the text for the first instance of the element. We need to iterate through the attribute if we want to get all values or properties of each instance. "
   ]
  },
  {
   "cell_type": "code",
   "execution_count": 137,
   "metadata": {
    "collapsed": false
   },
   "outputs": [
    {
     "data": {
      "text/plain": [
       "[149,\n",
       " 252939,\n",
       " 'b6987048',\n",
       " 48757232,\n",
       " 'b15315142',\n",
       " '5db7ad80-c52a-012f-0a4c-3c075448cc4b']"
      ]
     },
     "execution_count": 137,
     "metadata": {},
     "output_type": "execute_result"
    }
   ],
   "source": [
    "[i for i in mods.identifier]"
   ]
  },
  {
   "cell_type": "markdown",
   "metadata": {},
   "source": [
    "You can find specific values in an Element object using the `find()` or `findall()` methods:"
   ]
  },
  {
   "cell_type": "code",
   "execution_count": 91,
   "metadata": {
    "collapsed": false
   },
   "outputs": [
    {
     "name": "stdout",
     "output_type": "stream",
     "text": [
      "Help on built-in function find:\n",
      "\n",
      "find(...)\n",
      "    find(self, path, namespaces=None)\n",
      "    \n",
      "    Finds the first matching subelement, by tag name or path.\n",
      "    \n",
      "    The optional ``namespaces`` argument accepts a\n",
      "    prefix-to-namespace mapping that allows the usage of XPath\n",
      "    prefixes in the path expression.\n",
      "\n"
     ]
    }
   ],
   "source": [
    "help(mods.find)"
   ]
  },
  {
   "cell_type": "code",
   "execution_count": 94,
   "metadata": {
    "collapsed": false
   },
   "outputs": [
    {
     "data": {
      "text/plain": [
       "'{http://www.loc.gov/mods/v3}mods'"
      ]
     },
     "execution_count": 94,
     "metadata": {},
     "output_type": "execute_result"
    }
   ],
   "source": [
    "mods.tag"
   ]
  },
  {
   "cell_type": "markdown",
   "metadata": {},
   "source": [
    "If you've worked with XSLT, you'll be happy to learn you can use xpath to find values. In this example we'll use an xpath to find the identifier of type \"uuid\". Note that because we've declared namespaces in the root element, we have to use them in our xpaths. We can map the full namespace to a prefix in the `namespaces` argument."
   ]
  },
  {
   "cell_type": "code",
   "execution_count": 138,
   "metadata": {
    "collapsed": false
   },
   "outputs": [
    {
     "data": {
      "text/plain": [
       "['5db7ad80-c52a-012f-0a4c-3c075448cc4b']"
      ]
     },
     "execution_count": 138,
     "metadata": {},
     "output_type": "execute_result"
    }
   ],
   "source": [
    "mods.xpath('m:identifier[@type=\"uuid\"]', namespaces={'m':'http://www.loc.gov/mods/v3'})"
   ]
  },
  {
   "cell_type": "markdown",
   "metadata": {},
   "source": []
  },
  {
   "cell_type": "markdown",
   "metadata": {},
   "source": [
    "Also note that it returns our results in a list (even if there's only one result). Let's try another. This xpath is looking for the text of the title that has `usage` attribute marked as \"primary\":"
   ]
  },
  {
   "cell_type": "code",
   "execution_count": 139,
   "metadata": {
    "collapsed": false
   },
   "outputs": [
    {
     "data": {
      "text/plain": [
       "['America Septentrionalis.']"
      ]
     },
     "execution_count": 139,
     "metadata": {},
     "output_type": "execute_result"
    }
   ],
   "source": [
    "mods.xpath('m:titleInfo[@usage=\"primary\"]/m:title', namespaces={'m':'http://www.loc.gov/mods/v3'})"
   ]
  },
  {
   "cell_type": "markdown",
   "metadata": {},
   "source": [
    "Use this space to try a few more xpath searches. If you're new to xpath or need to brush up, [these examples](https://msdn.microsoft.com/en-us/library/ms256086) are helpful."
   ]
  },
  {
   "cell_type": "code",
   "execution_count": null,
   "metadata": {
    "collapsed": true
   },
   "outputs": [],
   "source": []
  },
  {
   "cell_type": "markdown",
   "metadata": {},
   "source": [
    "##modsqual"
   ]
  },
  {
   "cell_type": "markdown",
   "metadata": {},
   "source": [
    "lxml is a very powerful tool for parsing XML, but I've found the learning curve to be a bit steep. It's also a lot of typing that I don't really want to do. So, I created a wrapper around lxml that was more intuitive to use and tailored to my purposes in working with MODS metadata, primarily quality assessment. This module makes it easy to answer simple quality-related questions about an element like:\n",
    "- is the element there?\n",
    "- how many instances of the element are there?\n",
    "\n",
    "It also makes it easier to compose xpath queries and also includes support for regex. It could still use a lot of work, so if you like what you see, consider contributing! "
   ]
  },
  {
   "cell_type": "markdown",
   "metadata": {},
   "source": [
    "Let's try some of the same examples we used in our lxml exercise. First let's close and reopen the text file and read in the first line."
   ]
  },
  {
   "cell_type": "code",
   "execution_count": 141,
   "metadata": {
    "collapsed": false
   },
   "outputs": [
    {
     "name": "stdout",
     "output_type": "stream",
     "text": [
      "<?xml version=\"1.0\" encoding=\"UTF-8\"?><mods xmlns:xsi=\"http://www.w3.org/2001/XMLSchema-instance\" xmlns=\"http://www.loc.gov/mods/v3\" version=\"3.4\" xsi:schemaLocation=\"http://www.loc.gov/mods/v3 http://www.loc.gov/standards/mods/v3/mods-3-4.xsd\">  <titleInfo usage=\"primary\" supplied=\"no\">    <title>America Septentrionalis.</title>  </titleInfo>  <identifier type=\"local_hades_collection\" displayLabel=\"Hades Collection Guide ID (legacy)\">149</identifier>  <identifier type=\"local_hades\" displayLabel=\"Hades struc ID (legacy)\">252939</identifier>  <identifier type=\"local_catnyp\" displayLabel=\"CATNYP ID (legacy)\">b6987048</identifier>  <identifier type=\"local_other\" displayLabel=\"RLIN/OCLC\">48757232</identifier>  <identifier type=\"local_bnumber\" displayLabel=\"NYPL catalog ID (B-number)\">b15315142</identifier>  <location>    <physicalLocation authority=\"marcorg\" type=\"repository\">nn</physicalLocation>    <physicalLocation type=\"division\">Lionel Pincus and Princess Firyal Map Division</physicalLocation>    <physicalLocation type=\"division_short_name\">Map Division</physicalLocation>    <physicalLocation type=\"code\">MAP</physicalLocation>  </location>  <location>    <physicalLocation type=\"division\">Lionel Pincus and Princess Firyal Map Division</physicalLocation>    <shelfLocator>Map Div. 01-5371 [Filed with North America, [1660] as originally cataloged in NYPL Dictionary Catalog of the Map Division]</shelfLocator>    <physicalLocation type=\"division_short_name\">Map Division</physicalLocation>    <physicalLocation type=\"code\">MAP</physicalLocation>  </location>  <name type=\"personal\" authority=\"naf\" valueURI=\"\" usage=\"primary\">    <namePart>Jansson, Jan (1588-1664)</namePart>    <role>      <roleTerm valueURI=\"http://id.loc.gov/vocabulary/relators/egr\" authority=\"marcrelator\" type=\"code\">egr</roleTerm>      <roleTerm valueURI=\"http://id.loc.gov/vocabulary/relators/egr\" authority=\"marcrelator\" type=\"text\">Engraver</roleTerm>    </role>  </name>  <typeOfResource>still image</typeOfResource>  <originInfo>    <dateIssued encoding=\"w3cdtf\" qualifier=\"questionable\" keyDate=\"yes\">1639</dateIssued>    <place>      <placeTerm>Amstelodami :</placeTerm>    </place>    <publisher>Excudit Ioannes Ianssonius,</publisher>  </originInfo>  <physicalDescription>    <extent>1 map ; 44 x 53 cm.</extent>  </physicalDescription>  <note type=\"content\">California shown as an island.</note>  <note type=\"content\">Includes decorative cartouche showing native North Americans and ill. of animals in the body of the map.</note>  <note type=\"content\">National Endowment for the Humanities Grant for Access to Early Maps of the Middle Atlantic Seaboard.</note>  <note type=\"content\">Relief shown pictorially.</note>  <note type=\"content\">Title of the text on verso: Beschryvinge van het Noorder Deel van America ; signature: Bb.</note>  <note type=\"citation/reference\">Koemen, C. Atlantes Neerlandici, II, p. 431</note>  <subject>    <geographic authority=\"naf\">North America</geographic>  </subject>  <subject>    <geographic authority=\"lcsh\">North America -- Maps -- Early works to 1800</geographic>  </subject>  <identifier type=\"uuid\">5db7ad80-c52a-012f-0a4c-3c075448cc4b</identifier>  <relatedItem type=\"host\">    <titleInfo>      <title>Whole</title>    </titleInfo>    <identifier type=\"uuid\">5d52f8d0-c52a-012f-8383-3c075448cc4b</identifier>    <identifier type=\"local_hades\">854715 </identifier>    <relatedItem type=\"host\">      <titleInfo>        <title>Maps of North America.</title>      </titleInfo>      <identifier type=\"uuid\">5cd94760-c52a-012f-bcd4-3c075448cc4b</identifier>      <identifier type=\"local_hades\">854714 local_hades_collection</identifier>    </relatedItem>  </relatedItem></mods>\n",
      "\n"
     ]
    }
   ],
   "source": [
    "f.close()\n",
    "\n",
    "f = open('sample_mods_data.txt')\n",
    "line = f.readline()\n",
    "print line"
   ]
  },
  {
   "cell_type": "markdown",
   "metadata": {},
   "source": [
    "We first need to load in the modsqual module:"
   ]
  },
  {
   "cell_type": "code",
   "execution_count": 142,
   "metadata": {
    "collapsed": true
   },
   "outputs": [],
   "source": [
    "import modsqual"
   ]
  },
  {
   "cell_type": "markdown",
   "metadata": {},
   "source": [
    "Now let's create a mosdqual Mods object. This object will represent the whole MODS XML record."
   ]
  },
  {
   "cell_type": "code",
   "execution_count": 144,
   "metadata": {
    "collapsed": false
   },
   "outputs": [],
   "source": [
    "mods = modsqual.Mods(line)"
   ]
  },
  {
   "cell_type": "markdown",
   "metadata": {},
   "source": [
    "Let's see what we can do with our Mods object:"
   ]
  },
  {
   "cell_type": "code",
   "execution_count": 146,
   "metadata": {
    "collapsed": false
   },
   "outputs": [
    {
     "data": {
      "text/plain": [
       "['__class__',\n",
       " '__delattr__',\n",
       " '__dict__',\n",
       " '__doc__',\n",
       " '__format__',\n",
       " '__getattribute__',\n",
       " '__hash__',\n",
       " '__init__',\n",
       " '__module__',\n",
       " '__new__',\n",
       " '__reduce__',\n",
       " '__reduce_ex__',\n",
       " '__repr__',\n",
       " '__setattr__',\n",
       " '__sizeof__',\n",
       " '__str__',\n",
       " '__subclasshook__',\n",
       " '__weakref__',\n",
       " 'abstract',\n",
       " 'accessCondition',\n",
       " 'classification',\n",
       " 'counts',\n",
       " 'extension',\n",
       " 'genre',\n",
       " 'getAbstract',\n",
       " 'getAccessCondition',\n",
       " 'getClassification',\n",
       " 'getExtension',\n",
       " 'getGenre',\n",
       " 'getIdentifier',\n",
       " 'getLanguage',\n",
       " 'getLocation',\n",
       " 'getName',\n",
       " 'getNote',\n",
       " 'getOriginInfo',\n",
       " 'getPart',\n",
       " 'getPhysicalDescription',\n",
       " 'getRecordInfo',\n",
       " 'getRelatedItem',\n",
       " 'getSubject',\n",
       " 'getTableOfContents',\n",
       " 'getTargetAudience',\n",
       " 'getTitleInfo',\n",
       " 'getTypeOfResource',\n",
       " 'identifier',\n",
       " 'language',\n",
       " 'location',\n",
       " 'match',\n",
       " 'mods',\n",
       " 'name',\n",
       " 'note',\n",
       " 'originInfo',\n",
       " 'part',\n",
       " 'physicalDescription',\n",
       " 'recordInfo',\n",
       " 'relatedItem',\n",
       " 'subject',\n",
       " 'tableOfContents',\n",
       " 'targetAudience',\n",
       " 'titleInfo',\n",
       " 'toplevels',\n",
       " 'typeOfResource',\n",
       " 'wf',\n",
       " 'xml']"
      ]
     },
     "execution_count": 146,
     "metadata": {},
     "output_type": "execute_result"
    }
   ],
   "source": [
    "dir(mods)"
   ]
  },
  {
   "cell_type": "markdown",
   "metadata": {},
   "source": [
    "Here we can see that, like in the lxml example, our top-level MODS elements are listed as attributes. There are a few other attributes of our Mods object to note. \n",
    "\n",
    "We can see if our MODS XML is well-formed by calling the `wf` attribute:"
   ]
  },
  {
   "cell_type": "code",
   "execution_count": 147,
   "metadata": {
    "collapsed": false
   },
   "outputs": [
    {
     "data": {
      "text/plain": [
       "True"
      ]
     },
     "execution_count": 147,
     "metadata": {},
     "output_type": "execute_result"
    }
   ],
   "source": [
    "mods.wf"
   ]
  },
  {
   "cell_type": "markdown",
   "metadata": {},
   "source": [
    "We can get counts of each top-level element with the `counts` attribute:"
   ]
  },
  {
   "cell_type": "code",
   "execution_count": 148,
   "metadata": {
    "collapsed": false
   },
   "outputs": [
    {
     "data": {
      "text/plain": [
       "{u'identifier': 6,\n",
       " u'location': 2,\n",
       " u'name': 1,\n",
       " u'note': 6,\n",
       " u'originInfo': 1,\n",
       " u'physicalDescription': 1,\n",
       " u'relatedItem': 1,\n",
       " u'subject': 2,\n",
       " u'titleInfo': 1,\n",
       " u'typeOfResource': 1}"
      ]
     },
     "execution_count": 148,
     "metadata": {},
     "output_type": "execute_result"
    }
   ],
   "source": [
    "mods.counts"
   ]
  },
  {
   "cell_type": "markdown",
   "metadata": {},
   "source": [
    "If we want to view the XML, we can call the `xml()` method:"
   ]
  },
  {
   "cell_type": "code",
   "execution_count": 152,
   "metadata": {
    "collapsed": false
   },
   "outputs": [
    {
     "data": {
      "text/plain": [
       "'<mods xmlns:xsi=\"http://www.w3.org/2001/XMLSchema-instance\" xmlns=\"http://www.loc.gov/mods/v3\" version=\"3.4\" xsi:schemaLocation=\"http://www.loc.gov/mods/v3 http://www.loc.gov/standards/mods/v3/mods-3-4.xsd\">\\n  <titleInfo usage=\"primary\" supplied=\"no\">\\n    <title>America Septentrionalis.</title>\\n  </titleInfo>\\n  <identifier type=\"local_hades_collection\" displayLabel=\"Hades Collection Guide ID (legacy)\">149</identifier>\\n  <identifier type=\"local_hades\" displayLabel=\"Hades struc ID (legacy)\">252939</identifier>\\n  <identifier type=\"local_catnyp\" displayLabel=\"CATNYP ID (legacy)\">b6987048</identifier>\\n  <identifier type=\"local_other\" displayLabel=\"RLIN/OCLC\">48757232</identifier>\\n  <identifier type=\"local_bnumber\" displayLabel=\"NYPL catalog ID (B-number)\">b15315142</identifier>\\n  <location>\\n    <physicalLocation authority=\"marcorg\" type=\"repository\">nn</physicalLocation>\\n    <physicalLocation type=\"division\">Lionel Pincus and Princess Firyal Map Division</physicalLocation>\\n    <physicalLocation type=\"division_short_name\">Map Division</physicalLocation>\\n    <physicalLocation type=\"code\">MAP</physicalLocation>\\n  </location>\\n  <location>\\n    <physicalLocation type=\"division\">Lionel Pincus and Princess Firyal Map Division</physicalLocation>\\n    <shelfLocator>Map Div. 01-5371 [Filed with North America, [1660] as originally cataloged in NYPL Dictionary Catalog of the Map Division]</shelfLocator>\\n    <physicalLocation type=\"division_short_name\">Map Division</physicalLocation>\\n    <physicalLocation type=\"code\">MAP</physicalLocation>\\n  </location>\\n  <name type=\"personal\" authority=\"naf\" valueURI=\"\" usage=\"primary\">\\n    <namePart>Jansson, Jan (1588-1664)</namePart>\\n    <role>\\n      <roleTerm valueURI=\"http://id.loc.gov/vocabulary/relators/egr\" authority=\"marcrelator\" type=\"code\">egr</roleTerm>\\n      <roleTerm valueURI=\"http://id.loc.gov/vocabulary/relators/egr\" authority=\"marcrelator\" type=\"text\">Engraver</roleTerm>\\n    </role>\\n  </name>\\n  <typeOfResource>still image</typeOfResource>\\n  <originInfo>\\n    <dateIssued encoding=\"w3cdtf\" qualifier=\"questionable\" keyDate=\"yes\">1639</dateIssued>\\n    <place>\\n      <placeTerm>Amstelodami :</placeTerm>\\n    </place>\\n    <publisher>Excudit Ioannes Ianssonius,</publisher>\\n  </originInfo>\\n  <physicalDescription>\\n    <extent>1 map ; 44 x 53 cm.</extent>\\n  </physicalDescription>\\n  <note type=\"content\">California shown as an island.</note>\\n  <note type=\"content\">Includes decorative cartouche showing native North Americans and ill. of animals in the body of the map.</note>\\n  <note type=\"content\">National Endowment for the Humanities Grant for Access to Early Maps of the Middle Atlantic Seaboard.</note>\\n  <note type=\"content\">Relief shown pictorially.</note>\\n  <note type=\"content\">Title of the text on verso: Beschryvinge van het Noorder Deel van America ; signature: Bb.</note>\\n  <note type=\"citation/reference\">Koemen, C. Atlantes Neerlandici, II, p. 431</note>\\n  <subject>\\n    <geographic authority=\"naf\">North America</geographic>\\n  </subject>\\n  <subject>\\n    <geographic authority=\"lcsh\">North America -- Maps -- Early works to 1800</geographic>\\n  </subject>\\n  <identifier type=\"uuid\">5db7ad80-c52a-012f-0a4c-3c075448cc4b</identifier>\\n  <relatedItem type=\"host\">\\n    <titleInfo>\\n      <title>Whole</title>\\n    </titleInfo>\\n    <identifier type=\"uuid\">5d52f8d0-c52a-012f-8383-3c075448cc4b</identifier>\\n    <identifier type=\"local_hades\">854715 </identifier>\\n    <relatedItem type=\"host\">\\n      <titleInfo>\\n        <title>Maps of North America.</title>\\n      </titleInfo>\\n      <identifier type=\"uuid\">5cd94760-c52a-012f-bcd4-3c075448cc4b</identifier>\\n      <identifier type=\"local_hades\">854714 local_hades_collection</identifier>\\n    </relatedItem>\\n  </relatedItem>\\n</mods>\\n'"
      ]
     },
     "execution_count": 152,
     "metadata": {},
     "output_type": "execute_result"
    }
   ],
   "source": [
    "mods.xml()"
   ]
  },
  {
   "cell_type": "markdown",
   "metadata": {},
   "source": [
    "What can we do with the top-level elements? "
   ]
  },
  {
   "cell_type": "code",
   "execution_count": 154,
   "metadata": {
    "collapsed": false
   },
   "outputs": [
    {
     "data": {
      "text/plain": [
       "['__class__',\n",
       " '__delattr__',\n",
       " '__dict__',\n",
       " '__doc__',\n",
       " '__format__',\n",
       " '__getattribute__',\n",
       " '__hash__',\n",
       " '__init__',\n",
       " '__module__',\n",
       " '__new__',\n",
       " '__reduce__',\n",
       " '__reduce_ex__',\n",
       " '__repr__',\n",
       " '__setattr__',\n",
       " '__sizeof__',\n",
       " '__str__',\n",
       " '__subclasshook__',\n",
       " '__weakref__',\n",
       " 'byattr',\n",
       " 'count',\n",
       " 'counts',\n",
       " 'dict',\n",
       " 'exists',\n",
       " 'match',\n",
       " 'mods',\n",
       " 'name',\n",
       " 'subels',\n",
       " 'tag',\n",
       " 'text',\n",
       " 'xml']"
      ]
     },
     "execution_count": 154,
     "metadata": {},
     "output_type": "execute_result"
    }
   ],
   "source": [
    "dir(mods.titleInfo)"
   ]
  },
  {
   "cell_type": "markdown",
   "metadata": {},
   "source": [
    "You'll notice that we can't use dot notation for elements beyond the top-level element. (Pull requests welcome!) But we can do some other things.\n",
    "\n",
    "Count the number of title elements"
   ]
  },
  {
   "cell_type": "code",
   "execution_count": 157,
   "metadata": {
    "collapsed": false
   },
   "outputs": [
    {
     "data": {
      "text/plain": [
       "1"
      ]
     },
     "execution_count": 157,
     "metadata": {},
     "output_type": "execute_result"
    }
   ],
   "source": [
    "mods.titleInfo.count"
   ]
  },
  {
   "cell_type": "markdown",
   "metadata": {},
   "source": [
    "Check that a top-level element exists:"
   ]
  },
  {
   "cell_type": "code",
   "execution_count": 179,
   "metadata": {
    "collapsed": false
   },
   "outputs": [
    {
     "data": {
      "text/plain": [
       "False"
      ]
     },
     "execution_count": 179,
     "metadata": {},
     "output_type": "execute_result"
    }
   ],
   "source": [
    "mods.genre.exists"
   ]
  },
  {
   "cell_type": "markdown",
   "metadata": {},
   "source": [
    "View the innermost text of all titleInfo elements:"
   ]
  },
  {
   "cell_type": "code",
   "execution_count": 159,
   "metadata": {
    "collapsed": false
   },
   "outputs": [
    {
     "data": {
      "text/plain": [
       "[['America Septentrionalis.']]"
      ]
     },
     "execution_count": 159,
     "metadata": {},
     "output_type": "execute_result"
    }
   ],
   "source": [
    "mods.titleInfo.text()"
   ]
  },
  {
   "cell_type": "markdown",
   "metadata": {},
   "source": [
    "Notice that we have a list inside of a list. This is because there might be multiple titleInfo elements and multiple elements within each titleInfo elements.\n",
    "\n",
    "Let's view the text of location elements:"
   ]
  },
  {
   "cell_type": "code",
   "execution_count": 160,
   "metadata": {
    "collapsed": false
   },
   "outputs": [
    {
     "data": {
      "text/plain": [
       "[['nn',\n",
       "  'Lionel Pincus and Princess Firyal Map Division',\n",
       "  'Map Division',\n",
       "  'MAP'],\n",
       " ['Lionel Pincus and Princess Firyal Map Division',\n",
       "  'Map Div. 01-5371 [Filed with North America, [1660] as originally cataloged in NYPL Dictionary Catalog of the Map Division]',\n",
       "  'Map Division',\n",
       "  'MAP']]"
      ]
     },
     "execution_count": 160,
     "metadata": {},
     "output_type": "execute_result"
    }
   ],
   "source": [
    "mods.location.text()"
   ]
  },
  {
   "cell_type": "markdown",
   "metadata": {},
   "source": [
    "Let's view the XML of the all location elements:"
   ]
  },
  {
   "cell_type": "code",
   "execution_count": 162,
   "metadata": {
    "collapsed": false
   },
   "outputs": [
    {
     "data": {
      "text/plain": [
       "['<location xmlns=\"http://www.loc.gov/mods/v3\" xmlns:xsi=\"http://www.w3.org/2001/XMLSchema-instance\">\\n  <physicalLocation authority=\"marcorg\" type=\"repository\">nn</physicalLocation>\\n  <physicalLocation type=\"division\">Lionel Pincus and Princess Firyal Map Division</physicalLocation>\\n  <physicalLocation type=\"division_short_name\">Map Division</physicalLocation>\\n  <physicalLocation type=\"code\">MAP</physicalLocation>\\n</location>\\n',\n",
       " '<location xmlns=\"http://www.loc.gov/mods/v3\" xmlns:xsi=\"http://www.w3.org/2001/XMLSchema-instance\">\\n  <physicalLocation type=\"division\">Lionel Pincus and Princess Firyal Map Division</physicalLocation>\\n  <shelfLocator>Map Div. 01-5371 [Filed with North America, [1660] as originally cataloged in NYPL Dictionary Catalog of the Map Division]</shelfLocator>\\n  <physicalLocation type=\"division_short_name\">Map Division</physicalLocation>\\n  <physicalLocation type=\"code\">MAP</physicalLocation>\\n</location>\\n']"
      ]
     },
     "execution_count": 162,
     "metadata": {},
     "output_type": "execute_result"
    }
   ],
   "source": [
    "mods.location.xml()"
   ]
  },
  {
   "cell_type": "markdown",
   "metadata": {},
   "source": [
    "Note that this returns a list of XML fragments. \n",
    "\n",
    "We can also view elements as dictionaries. Let's view the location elements as dicts:"
   ]
  },
  {
   "cell_type": "code",
   "execution_count": 164,
   "metadata": {
    "collapsed": false
   },
   "outputs": [
    {
     "data": {
      "text/plain": [
       "[OrderedDict([(u'location', OrderedDict([(u'@xmlns', u'http://www.loc.gov/mods/v3'), (u'@xmlns:xsi', u'http://www.w3.org/2001/XMLSchema-instance'), (u'physicalLocation', [OrderedDict([(u'@authority', u'marcorg'), (u'@type', u'repository'), ('#text', u'nn')]), OrderedDict([(u'@type', u'division'), ('#text', u'Lionel Pincus and Princess Firyal Map Division')]), OrderedDict([(u'@type', u'division_short_name'), ('#text', u'Map Division')]), OrderedDict([(u'@type', u'code'), ('#text', u'MAP')])])]))]),\n",
       " OrderedDict([(u'location', OrderedDict([(u'@xmlns', u'http://www.loc.gov/mods/v3'), (u'@xmlns:xsi', u'http://www.w3.org/2001/XMLSchema-instance'), (u'physicalLocation', [OrderedDict([(u'@type', u'division'), ('#text', u'Lionel Pincus and Princess Firyal Map Division')]), OrderedDict([(u'@type', u'division_short_name'), ('#text', u'Map Division')]), OrderedDict([(u'@type', u'code'), ('#text', u'MAP')])]), (u'shelfLocator', u'Map Div. 01-5371 [Filed with North America, [1660] as originally cataloged in NYPL Dictionary Catalog of the Map Division]')]))])]"
      ]
     },
     "execution_count": 164,
     "metadata": {},
     "output_type": "execute_result"
    }
   ],
   "source": [
    "mods.location.dict"
   ]
  },
  {
   "cell_type": "markdown",
   "metadata": {},
   "source": [
    "Note that these are actualy OrderedDicts, so that we preserve element sequence. As you all know, this is important for certain elements, like subjects. This looks a little cluttered to the human eye, with all of those namespaces (pull requests welcome!), but if you know MODS structure by heart, you won't have to look at it much.\n",
    "\n",
    "Get the text of the first location's physicalLocation:"
   ]
  },
  {
   "cell_type": "code",
   "execution_count": 178,
   "metadata": {
    "collapsed": false
   },
   "outputs": [
    {
     "data": {
      "text/plain": [
       "u'nn'"
      ]
     },
     "execution_count": 178,
     "metadata": {},
     "output_type": "execute_result"
    }
   ],
   "source": [
    "locationdict = mods.location.dict\n",
    "locationdict[0]['location']['physicalLocation'][0]['#text']"
   ]
  },
  {
   "cell_type": "markdown",
   "metadata": {},
   "source": [
    "This is still a bit cumbersome, so let's try trusty old xpath. The `match` method allows you to return matching elements by attribute value, regular expression, or xpath. This function is a wrapper around the etree.XPath method and returns a list of xpath results. Depending on your query, this will either be a list of text values or a list of elements. You can then convert element results to Python dictionaries using the todict() function, if you like.\n",
    "\n",
    "You do still have to preface element names with the namespace prefix 'm:' and you need to start your xpath with mods as the root (pull requests welcome!). Let's look for the text of the physicalLocation with attribute @type=\"division\":"
   ]
  },
  {
   "cell_type": "code",
   "execution_count": 180,
   "metadata": {
    "collapsed": false
   },
   "outputs": [
    {
     "data": {
      "text/plain": [
       "['Lionel Pincus and Princess Firyal Map Division',\n",
       " 'Lionel Pincus and Princess Firyal Map Division']"
      ]
     },
     "execution_count": 180,
     "metadata": {},
     "output_type": "execute_result"
    }
   ],
   "source": [
    "mods.location.match(xpath='./m:location/m:physicalLocation[@type=\"division\"]')"
   ]
  },
  {
   "cell_type": "markdown",
   "metadata": {},
   "source": [
    "Let's try a more complex example. Let's see if we have at least one of the following date types: dateCreated, dateIssued, or copyrightDate:"
   ]
  },
  {
   "cell_type": "code",
   "execution_count": 181,
   "metadata": {
    "collapsed": false
   },
   "outputs": [
    {
     "data": {
      "text/plain": [
       "[1639]"
      ]
     },
     "execution_count": 181,
     "metadata": {},
     "output_type": "execute_result"
    }
   ],
   "source": [
    "mods.originInfo.match(xpath='./m:originInfo/m:dateCreated|./m:originInfo/m:dateIssued|./m:originInfo/m:copyrightDate')"
   ]
  },
  {
   "cell_type": "markdown",
   "metadata": {},
   "source": [
    "Try a few xpaths in the cell below:"
   ]
  },
  {
   "cell_type": "code",
   "execution_count": null,
   "metadata": {
    "collapsed": true
   },
   "outputs": [],
   "source": []
  },
  {
   "cell_type": "markdown",
   "metadata": {},
   "source": [
    "We can also match with regex on text values of elements. Let's find any identifiers that start with 4 digits:"
   ]
  },
  {
   "cell_type": "code",
   "execution_count": 182,
   "metadata": {
    "collapsed": false
   },
   "outputs": [
    {
     "data": {
      "text/plain": [
       "[252939, 48757232]"
      ]
     },
     "execution_count": 182,
     "metadata": {},
     "output_type": "execute_result"
    }
   ],
   "source": [
    "mods.identifier.match(regex='^[0-9]{4,}')"
   ]
  },
  {
   "cell_type": "markdown",
   "metadata": {},
   "source": [
    "Sadly, this only works on top-level text elements right now:"
   ]
  },
  {
   "cell_type": "code",
   "execution_count": 183,
   "metadata": {
    "collapsed": false
   },
   "outputs": [
    {
     "data": {
      "text/plain": [
       "[]"
      ]
     },
     "execution_count": 183,
     "metadata": {},
     "output_type": "execute_result"
    }
   ],
   "source": [
    "mods.titleInfo.match(regex='^A')"
   ]
  },
  {
   "cell_type": "markdown",
   "metadata": {},
   "source": [
    "##Using modsqual for a baseline audit"
   ]
  },
  {
   "cell_type": "markdown",
   "metadata": {},
   "source": [
    "Let's put all this together and walk through a script that iterates through our ~9000 records and tests for the following:\n",
    "- At least one titleInfo is present\n",
    "- At least one typeOfResource and all match a valid value\n",
    "- At least one of dateCreated, dateIssued, or copyrightDate is present\n",
    "- At least one genre is present\n",
    "- At least one identifer of type \"local_bnumber\", \"local_mss\", or \"local_tms\" is present\n",
    "- At least one physicalLocation of type \"division\" is present\n",
    "\n",
    "We'll score each factor as 1 for True, and 0 for False. Then we'll add the six scores to create a total score.\n",
    "\n",
    "We also need to collect some basic identifying information about each record, as well as some information that will help in grouping or filtering in a later analysis. \n",
    "- Record UUID (identifier[@type=\"uuid\"]\n",
    "- Parent collection name (innermost nested relatedItem/titleInfo/title)\n",
    "- Division name (location/physicalLocation[@type=\"division\"])\n",
    "\n",
    "You can find the entire script on its own in this directory or [here](http://github.com/saverkamp/measure-metadata-workshop/MODSXMLandPython/sample_baseline_scoring.py).\n",
    "\n",
    "First let's import the necessary Python modules:"
   ]
  },
  {
   "cell_type": "code",
   "execution_count": 186,
   "metadata": {
    "collapsed": true
   },
   "outputs": [],
   "source": [
    "import modsqual\n",
    "import csv"
   ]
  },
  {
   "cell_type": "markdown",
   "metadata": {},
   "source": [
    "Now let's create a list of the valid MODS resource types that we'll use for checking typeOfResource against:"
   ]
  },
  {
   "cell_type": "code",
   "execution_count": 187,
   "metadata": {
    "collapsed": true
   },
   "outputs": [],
   "source": [
    "resource_types = [\"text\", \"cartographic\", \"notated music\", \"sound recording-musical\", \"sound recording-nonmusical\",\n",
    "              \"sound recording\", \"still image\", \"moving image\", \"three dimensional object\", \"software, multimedia\",\n",
    "              \"mixed material\"]"
   ]
  },
  {
   "cell_type": "markdown",
   "metadata": {},
   "source": [
    "These are some functions I've written to help us with our tests and to simplify generating scores for each test."
   ]
  },
  {
   "cell_type": "code",
   "execution_count": 188,
   "metadata": {
    "collapsed": true
   },
   "outputs": [],
   "source": [
    "def score(bool, point=True, value=1):\n",
    "    \"\"\"assign points if bool value matches point argument value\"\"\"\n",
    "    if bool == point:\n",
    "        score = value\n",
    "    else:\n",
    "        score = 0\n",
    "    return score\n",
    "\n",
    "def exists(element):\n",
    "    \"\"\"top-level element exists\"\"\"\n",
    "    s = score(element.exists)\n",
    "    return s\n",
    "\n",
    "def inList(element, list):\n",
    "    \"\"\"element value matches a value from a controlled vocabulary\"\"\"\n",
    "    if element.exists == True:\n",
    "        s = score(all(i in list for i in element.text()))\n",
    "    else:\n",
    "        s = 0\n",
    "    return s\n",
    "\n",
    "def xpathexists(match, min=1):\n",
    "    \"\"\"result from xpath match contains at least one element match\"\"\"\n",
    "    try:\n",
    "        s = score(len(match) >= min)\n",
    "    except:\n",
    "        s = 0\n",
    "    return s"
   ]
  },
  {
   "cell_type": "markdown",
   "metadata": {},
   "source": [
    "Using the csv module, let's set up an empty csv file that we'll use to write our results to. Let's also write a header row for the data we're collecting."
   ]
  },
  {
   "cell_type": "code",
   "execution_count": 189,
   "metadata": {
    "collapsed": true
   },
   "outputs": [],
   "source": [
    "z = open('sample_mods_scores.csv', 'wb')\n",
    "header = ['uuid', 'division', 'collection', 'title', 'typeOfResource', 'genre', 'date', 'identifier', 'location', 'total']\n",
    "writer = csv.DictWriter(z, fieldnames=header)\n",
    "writer.writeheader()"
   ]
  },
  {
   "cell_type": "markdown",
   "metadata": {},
   "source": [
    "Make sure our MODS text file is open:"
   ]
  },
  {
   "cell_type": "code",
   "execution_count": 190,
   "metadata": {
    "collapsed": true
   },
   "outputs": [],
   "source": [
    "f = open('sample_mods_data.txt')"
   ]
  },
  {
   "cell_type": "markdown",
   "metadata": {},
   "source": [
    "The next part of the script involves iterating through each record, so it needs to be in it's own code block. Before we run that, let's unpack what we'll be doing in each record. \n",
    "\n",
    "Read in the first line, as we did earlier, to walk through these next examples:"
   ]
  },
  {
   "cell_type": "code",
   "execution_count": 192,
   "metadata": {
    "collapsed": false
   },
   "outputs": [],
   "source": [
    "line = f.readline()\n",
    "mods = modsqual.Mods(line)"
   ]
  },
  {
   "cell_type": "markdown",
   "metadata": {},
   "source": [
    "First we'll find the record's uuid identifier using the `match()` function. You can also match elements with the `attr` argument, just list the attributes and their values in a list as the value of `attr`. The match function will return a list so we will want to get the first one by using index [0]:"
   ]
  },
  {
   "cell_type": "code",
   "execution_count": 193,
   "metadata": {
    "collapsed": false
   },
   "outputs": [
    {
     "name": "stdout",
     "output_type": "stream",
     "text": [
      "d7cac480-c52a-012f-b006-3c075448cc4b\n"
     ]
    }
   ],
   "source": [
    "uuids = mods.identifier.match(attr=['@type=\"uuid\"'])\n",
    "uuid = uuids[0]\n",
    "print uuid"
   ]
  },
  {
   "cell_type": "markdown",
   "metadata": {},
   "source": [
    "To get the collection name, we need the innermost relatedItem element. We could write a function to do this the proper way, or we could just assume that if we write an xpath to return all return all relatedItem elements, it will be the last one. After we make sure that we actually have any relatedItem elements, we'll use the index [-1] to get the last item in the list"
   ]
  },
  {
   "cell_type": "code",
   "execution_count": 194,
   "metadata": {
    "collapsed": false
   },
   "outputs": [
    {
     "name": "stdout",
     "output_type": "stream",
     "text": [
      "Maps of North America.\n"
     ]
    }
   ],
   "source": [
    "collections = mods.relatedItem.match(xpath='.//m:relatedItem/m:titleInfo/m:title/text()')\n",
    "if len(collections) > 0:\n",
    "    coll_name = collections[-1]\n",
    "else:\n",
    "    coll_name = 'Null'\n",
    "print coll_name"
   ]
  },
  {
   "cell_type": "markdown",
   "metadata": {},
   "source": [
    "Now let's run each of our 6 tests. For titleInfo and genre, we are just checking to see if these elements exist, which we know we can do with the `exists` attribute:"
   ]
  },
  {
   "cell_type": "code",
   "execution_count": 198,
   "metadata": {
    "collapsed": false
   },
   "outputs": [
    {
     "name": "stdout",
     "output_type": "stream",
     "text": [
      "True\n",
      "False\n"
     ]
    }
   ],
   "source": [
    "print mods.titleInfo.exists\n",
    "print mods.genre.exists"
   ]
  },
  {
   "cell_type": "markdown",
   "metadata": {},
   "source": [
    "And then we need to convert those booleans to scores. The `exists()` function (above, in the list of functions) saves us some typing by checking the `exists` attribute, then running the value through the `score()` function to give us a score, 1 or 0, for the test:"
   ]
  },
  {
   "cell_type": "code",
   "execution_count": 208,
   "metadata": {
    "collapsed": false
   },
   "outputs": [
    {
     "name": "stdout",
     "output_type": "stream",
     "text": [
      "1\n",
      "0\n"
     ]
    }
   ],
   "source": [
    "title = exists(mods.titleInfo)\n",
    "genre = exists(mods.genre)\n",
    "print title\n",
    "print genre"
   ]
  },
  {
   "cell_type": "markdown",
   "metadata": {},
   "source": [
    "For typeOfResource, we need to get the values of the element, then check each value against our list of valid resource types. If all values match, it scores a 1, if not all match, or there aren't any typeOfResource elements present, it scores a 0. The `inList()` function simplifies this test by checking first that the element exists (`mods.typeOfResource.exists`) then checking that each value is represented in the `resource_types` list. It uses the `score()` function to score the test."
   ]
  },
  {
   "cell_type": "code",
   "execution_count": 202,
   "metadata": {
    "collapsed": false
   },
   "outputs": [
    {
     "name": "stdout",
     "output_type": "stream",
     "text": [
      "1\n"
     ]
    }
   ],
   "source": [
    "#pass the typeOfResource element and the resource types list to the inList() function to get the score\n",
    "typeOfResource = inList(mods.typeOfResource, resource_types)\n",
    "print typeOfResource"
   ]
  },
  {
   "cell_type": "markdown",
   "metadata": {},
   "source": [
    "For date, location, and identifier, since we are matching on specific criteria, we need a different test than `exists()`. The `xpathexists()` function takes the results of an xpath `match()` method, counts the number of matches (length of the list that `match()` returns, and uses `score()` to calculate the score."
   ]
  },
  {
   "cell_type": "code",
   "execution_count": 203,
   "metadata": {
    "collapsed": false
   },
   "outputs": [
    {
     "name": "stdout",
     "output_type": "stream",
     "text": [
      "1\n",
      "1\n",
      "1\n"
     ]
    }
   ],
   "source": [
    "date = xpathexists(mods.originInfo.match(xpath='./m:originInfo/m:dateCreated|./m:originInfo/m:dateIssued|./m:originInfo/m:copyrightDate'))\n",
    "identifier = xpathexists(mods.identifier.match(xpath='./m:identifier[@type=\"local_bnumber\" or @type=\"local_mss\" or @type=\"local_tms\"]'))\n",
    "location = xpathexists(mods.location.match(xpath='./m:location/m:physicalLocation[@type=\"division\"]'))\n",
    "print date\n",
    "print identifier\n",
    "print location"
   ]
  },
  {
   "cell_type": "markdown",
   "metadata": {},
   "source": [
    "We also wanted to collect the division name to use for filtering or grouping in a later analysis of these scores. Since we already ran our test on division location, we can use that to help get the division name. If that test fails, we want to call our division 'Null'. If it passed, we can use the same xpath match to get the division name. Note that we added an index for the first result, since we want the value of division to be a string, not a list (also that xpath might match more than one division!):"
   ]
  },
  {
   "cell_type": "code",
   "execution_count": 206,
   "metadata": {
    "collapsed": false
   },
   "outputs": [
    {
     "name": "stdout",
     "output_type": "stream",
     "text": [
      "Lionel Pincus and Princess Firyal Map Division\n"
     ]
    }
   ],
   "source": [
    "if (location == 1):\n",
    "    division = mods.location.match(xpath='./m:location/m:physicalLocation[@type=\"division\"]')[0]\n",
    "else:\n",
    "    division = 'Null'\n",
    "print division"
   ]
  },
  {
   "cell_type": "markdown",
   "metadata": {},
   "source": [
    "Finally, let's calculate our total score. We'll put all of our test scores in a list and then use the `sum()` function to add them."
   ]
  },
  {
   "cell_type": "code",
   "execution_count": 209,
   "metadata": {
    "collapsed": false
   },
   "outputs": [
    {
     "name": "stdout",
     "output_type": "stream",
     "text": [
      "5\n"
     ]
    }
   ],
   "source": [
    "scores = [title, typeOfResource, genre, date, identifier, location]\n",
    "total = sum(scores)\n",
    "print total"
   ]
  },
  {
   "cell_type": "markdown",
   "metadata": {},
   "source": [
    "We're ready to write our data to a row in the csv file. We're using the csv DictWriter, so we need to create a dictionary with the header labels as keys and our variables as values:"
   ]
  },
  {
   "cell_type": "code",
   "execution_count": 211,
   "metadata": {
    "collapsed": false
   },
   "outputs": [
    {
     "name": "stdout",
     "output_type": "stream",
     "text": [
      "{'division': 'Lionel Pincus and Princess Firyal Map Division', 'total': 5, 'date': 1, 'uuid': 'd7cac480-c52a-012f-b006-3c075448cc4b', 'title': 1, 'genre': 0, 'identifier': 1, 'typeOfResource': 1, 'collection': 'Maps of North America.', 'location': 1}\n"
     ]
    }
   ],
   "source": [
    "row = {'uuid':uuid, 'division':division, 'collection':coll_name, 'title':title, 'typeOfResource':typeOfResource, 'genre':genre,\n",
    "       'date':date, 'identifier':identifier, 'location':location, 'total':total}\n",
    "print row"
   ]
  },
  {
   "cell_type": "markdown",
   "metadata": {},
   "source": [
    "We'll write the row to the file using `writer.writerow(row)` but we won't do that right now.\n",
    "\n",
    "We're just about ready to loop through all of our records! One thing to notice in the next block is the error handling. It's possible our script might encounter a malformed XML record, in which case it's not going to be able to do any of the things we just looked at. The `try` clause tries running the code below it and if it fails, it runs the `except` clause, which tells the script what to do with this failure. Here we're telling the script to write the line index number (`idx`) to a text file called 'failed.txt' so we can go back and see what failed later, if we want.\n",
    "\n",
    "Time to iterate! This could take a few minutes."
   ]
  },
  {
   "cell_type": "code",
   "execution_count": 217,
   "metadata": {
    "collapsed": false
   },
   "outputs": [],
   "source": [
    "log = open('failed.txt', 'wb')\n",
    "\n",
    "for idx, line in enumerate(f):\n",
    "    try:\n",
    "        mods = modsqual.Mods(line)\n",
    "        #Get uuid identifier\n",
    "        uuids = mods.identifier.match(attr=['@type=\"uuid\"'])\n",
    "        uuid = uuids[0]\n",
    "        #Get collection name. Collection is the most deeply nested relatedItem, so get all descendents and take the last in the list.\n",
    "        collections = mods.relatedItem.match(xpath='.//m:relatedItem/m:titleInfo/m:title/text()')\n",
    "        if collections > 0:\n",
    "            coll_name = collections[-1]\n",
    "        else:\n",
    "            coll_name = 'Null'\n",
    "        #Test true/false (1/0) if title exists. Use the exists() function to calculate score\n",
    "        title = exists(mods.titleInfo)\n",
    "        typeOfResource = inList(mods.typeOfResource, resource_types)\n",
    "        genre = exists(mods.genre)\n",
    "        date = xpathexists(mods.originInfo.match(xpath='./m:originInfo/m:dateCreated|./m:originInfo/m:dateIssued|./m:originInfo/m:copyrightDate'))\n",
    "        identifier = xpathexists(mods.identifier.match(xpath='./m:identifier[@type=\"local_bnumber\" or @type=\"local_mss\" or @type=\"local_tms\"]'))\n",
    "        location = xpathexists(mods.location.match(xpath='./m:location/m:physicalLocation[@type=\"division\"]'))\n",
    "        #Get curatorial division name. First check if division location is present, then take the first one listed. If none, then Null.\n",
    "        if (location == 1):\n",
    "            division = mods.location.match(xpath='./m:location/m:physicalLocation[@type=\"division\"]')[0]\n",
    "        else:\n",
    "            division = 'Null'\n",
    "        scores = [title, typeOfResource, genre, date, identifier, location]\n",
    "        total = sum(scores)\n",
    "        row = {'uuid':uuid, 'division':division, 'collection':coll_name, 'title':title, 'typeOfResource':typeOfResource, 'genre':genre,\n",
    "               'date':date, 'identifier':identifier, 'location':location, 'total':total}\n",
    "        writer.writerow(row)\n",
    "    except:\n",
    "        log.write(str(idx))\n",
    "        log.write('\\n')"
   ]
  },
  {
   "cell_type": "markdown",
   "metadata": {},
   "source": [
    "Finally, let's close our new files:"
   ]
  },
  {
   "cell_type": "code",
   "execution_count": 220,
   "metadata": {
    "collapsed": true
   },
   "outputs": [],
   "source": [
    "log.close()\n",
    "z.close()"
   ]
  },
  {
   "cell_type": "markdown",
   "metadata": {},
   "source": [
    "You should now have a csv file with ~9000 rows of baseline scores in your folder! You can follow Sara's [tutorial](https://github.com/saverkamp/measure-metadata-workshop/tree/master/pandas) to learn how to analyze this data with [pandas](http://pandas.pydata.org/)"
   ]
  },
  {
   "cell_type": "code",
   "execution_count": null,
   "metadata": {
    "collapsed": true
   },
   "outputs": [],
   "source": []
  }
 ],
 "metadata": {
  "kernelspec": {
   "display_name": "Python 2",
   "language": "python",
   "name": "python2"
  },
  "language_info": {
   "codemirror_mode": {
    "name": "ipython",
    "version": 2
   },
   "file_extension": ".py",
   "mimetype": "text/x-python",
   "name": "python",
   "nbconvert_exporter": "python",
   "pygments_lexer": "ipython2",
   "version": "2.7.9"
  }
 },
 "nbformat": 4,
 "nbformat_minor": 0
}
